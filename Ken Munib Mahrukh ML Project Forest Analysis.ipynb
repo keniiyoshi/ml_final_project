{
 "cells": [
  {
   "cell_type": "code",
   "execution_count": 1,
   "metadata": {},
   "outputs": [],
   "source": [
    "import pandas as pd\n",
    "import numpy as np"
   ]
  },
  {
   "cell_type": "code",
   "execution_count": 54,
   "metadata": {},
   "outputs": [
    {
     "name": "stdout",
     "output_type": "stream",
     "text": [
      "  class  b1  b2  b3   b4  b5   b6  b7  b8  b9         ...           \\\n",
      "0    d   39  36  57   91  59  101  93  27  60         ...            \n",
      "1    h   84  30  57  112  51   98  92  26  62         ...            \n",
      "\n",
      "   pred_minus_obs_H_b9  pred_minus_obs_S_b1  pred_minus_obs_S_b2  \\\n",
      "0                -2.36               -18.41                -1.88   \n",
      "1                -2.26               -16.27                -1.95   \n",
      "\n",
      "   pred_minus_obs_S_b3  pred_minus_obs_S_b4  pred_minus_obs_S_b5  \\\n",
      "0                -6.43               -21.03                -1.60   \n",
      "1                -6.25               -18.79                -1.99   \n",
      "\n",
      "   pred_minus_obs_S_b6  pred_minus_obs_S_b7  pred_minus_obs_S_b8  \\\n",
      "0                -6.18               -22.50                -5.20   \n",
      "1                -6.18               -23.41                -8.87   \n",
      "\n",
      "   pred_minus_obs_S_b9  \n",
      "0                -7.86  \n",
      "1               -10.83  \n",
      "\n",
      "[2 rows x 28 columns]\n",
      "  class  b1  b2  b3   b4  b5   b6   b7  b8  b9         ...           \\\n",
      "0    d   67  51  68  115  69  111  136  31  67         ...            \n",
      "1    s   67  28  51   99  50   97   82  26  59         ...            \n",
      "\n",
      "   pred_minus_obs_H_b9  pred_minus_obs_S_b1  pred_minus_obs_S_b2  \\\n",
      "0                -9.17               -18.27                -1.80   \n",
      "1                -2.25               -20.13                -2.11   \n",
      "\n",
      "   pred_minus_obs_S_b3  pred_minus_obs_S_b4  pred_minus_obs_S_b5  \\\n",
      "0                -6.32               -20.88                -1.63   \n",
      "1                -6.35               -21.94                -1.22   \n",
      "\n",
      "   pred_minus_obs_S_b6  pred_minus_obs_S_b7  pred_minus_obs_S_b8  \\\n",
      "0                -6.13               -22.56                -5.53   \n",
      "1                -6.13               -22.20                -3.41   \n",
      "\n",
      "   pred_minus_obs_S_b9  \n",
      "0                -8.11  \n",
      "1                -6.57  \n",
      "\n",
      "[2 rows x 28 columns]\n",
      "(198, 28)\n",
      "(325, 28)\n"
     ]
    }
   ],
   "source": [
    "df_train = pd.read_csv('training.csv',\n",
    "                 header=None,delim_whitespace=False,names=None,na_values='?')\n",
    "\n",
    "names=df_train.head(1).values.reshape([28,])\n",
    "df_train = pd.read_csv('training.csv',header=None,skiprows=[0],delim_whitespace=False,names=names)\n",
    "df_test = pd.read_csv('testing.csv',header=None,skiprows=[0],delim_whitespace=False,names=names)\n",
    "\n",
    "print(df_train.head(2))\n",
    "print(df_test.head(2))\n",
    "\n",
    "print(df_train.shape)\n",
    "print(df_test.shape)\n",
    "\n"
   ]
  },
  {
   "cell_type": "code",
   "execution_count": null,
   "metadata": {},
   "outputs": [],
   "source": []
  }
 ],
 "metadata": {
  "kernelspec": {
   "display_name": "Python 3",
   "language": "python",
   "name": "python3"
  },
  "language_info": {
   "codemirror_mode": {
    "name": "ipython",
    "version": 3
   },
   "file_extension": ".py",
   "mimetype": "text/x-python",
   "name": "python",
   "nbconvert_exporter": "python",
   "pygments_lexer": "ipython3",
   "version": "3.7.1"
  }
 },
 "nbformat": 4,
 "nbformat_minor": 2
}
