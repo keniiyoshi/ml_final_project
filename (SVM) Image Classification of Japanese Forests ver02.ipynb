{
 "cells": [
  {
   "cell_type": "markdown",
   "metadata": {},
   "source": [
    "Data: http://archive.ics.uci.edu/ml/datasets/Forest+type+mapping\n",
    "\n",
    "Source paper: http://www.cr.chiba-u.jp/~tateishi-lab/pdf/2011/Using%20geographically%202011.pdf\n"
   ]
  },
  {
   "cell_type": "code",
   "execution_count": 1,
   "metadata": {},
   "outputs": [],
   "source": [
    "# Import Important Libraries\n",
    "from sklearn.linear_model import LogisticRegression # importing Sklearn's logistic regression's module\n",
    "from sklearn.model_selection import KFold\n",
    "from sklearn import preprocessing # preprossing is what we do with the data before we run the learning algorithm\n",
    "from sklearn.metrics import confusion_matrix\n",
    "from sklearn.metrics import precision_recall_fscore_support\n",
    "from sklearn.metrics import accuracy_score\n",
    "import numpy as np\n",
    "import math\n",
    "import pandas as pd\n",
    "import matplotlib.pyplot as plt\n",
    "\n",
    "%matplotlib inline"
   ]
  },
  {
   "cell_type": "code",
   "execution_count": 2,
   "metadata": {},
   "outputs": [
    {
     "name": "stdout",
     "output_type": "stream",
     "text": [
      "(198, 27)\n",
      "(325, 27)\n",
      "(198,)\n",
      "(325,)\n"
     ]
    }
   ],
   "source": [
    "# loading data \n",
    "df_train = pd.read_csv('training.csv',delim_whitespace=False)\n",
    "df_test = pd.read_csv('testing.csv',delim_whitespace=False)\n",
    "#getting features from the data and saving them into different vectors\n",
    "x_train_raw = df_train.drop(columns=\"class\")\n",
    "x_test_raw = df_test.drop(columns=\"class\")\n",
    "#only saving the values\n",
    "x_train_raw = x_train_raw.values \n",
    "x_test_raw = x_test_raw.values\n",
    "print(x_train_raw.shape)\n",
    "print(x_test_raw.shape)\n",
    "\n",
    "#getting the raw data y_train and y_test\n",
    "y_train = np.array(df_train['class'])\n",
    "y_test = np.array(df_test['class'])\n",
    "print(y_train.shape)\n",
    "print(y_test.shape)"
   ]
  },
  {
   "cell_type": "code",
   "execution_count": 3,
   "metadata": {},
   "outputs": [],
   "source": [
    "#Preprocessing data for Logistic Regression. There is no need for shuffling the data since it is already shuffled. \n",
    "x_train = preprocessing.scale(x_train_raw.data)\n",
    "x_test = preprocessing.scale(x_test_raw.data)\n",
    "# print(x_train)"
   ]
  },
  {
   "cell_type": "markdown",
   "metadata": {},
   "source": [
    "# SVM using Linear Kernel.\n",
    "More info:\n",
    "http://scikit-learn.org/stable/modules/generated/sklearn.svm.SVC.html"
   ]
  },
  {
   "cell_type": "code",
   "execution_count": 4,
   "metadata": {},
   "outputs": [],
   "source": [
    "from sklearn import svm\n",
    "from sklearn.metrics import confusion_matrix\n",
    "#     print(confusion_matrix(y_test_svm, svc_rbf.predict(x_test_svm)))\n",
    "from sklearn.metrics import f1_score\n",
    "x_train_svm=x_train\n",
    "y_train_svm=y_train\n",
    "x_test_svm=x_test\n",
    "y_test_svm=y_test"
   ]
  },
  {
   "cell_type": "code",
   "execution_count": 5,
   "metadata": {},
   "outputs": [
    {
     "name": "stdout",
     "output_type": "stream",
     "text": [
      "   train\ttest\n",
      "s  30.0 \t 42.0\n",
      "h  24.0 \t 12.0\n",
      "d  27.0 \t 32.0\n",
      "o  19.0 \t 14.0\n"
     ]
    }
   ],
   "source": [
    "classes = ['s ','h ', 'd ','o ']\n",
    "print('   train\\ttest')\n",
    "for c in classes:\n",
    "    print(c,round(100*sum(y_train_svm == c)/y_train_svm.shape[0]),\n",
    "          '\\t',round(100*sum(y_test_svm == c)/y_test_svm.shape[0]))"
   ]
  },
  {
   "cell_type": "code",
   "execution_count": 6,
   "metadata": {},
   "outputs": [
    {
     "name": "stdout",
     "output_type": "stream",
     "text": [
      "c\t c_f1_train_avg\t c_f1_test_avg\n",
      "0.01 \t 0.952 \t\t 0.949\n",
      "0.1 \t 0.991 \t\t 0.964\n",
      "1 \t 1.0 \t\t 0.97\n",
      "10 \t 1.0 \t\t 0.97\n",
      "100 \t 1.0 \t\t 0.97\n",
      "Best choice: c=1e4\n",
      "F1= 0.725\n"
     ]
    },
    {
     "data": {
      "image/png": "[encoded data removed]",
      "text/plain": [
       "<Figure size 432x288 with 1 Axes>"
      ]
     },
     "metadata": {
      "needs_background": "light"
     },
     "output_type": "display_data"
    }
   ],
   "source": [
    "# Note: higher c the better, so basically we want negligible penalty from weight function.\n",
    "cVals = [0.01,0.1,1,10,100]\n",
    "c_f1_train_avg = []\n",
    "c_f1_test_avg = []\n",
    "kf = KFold(n_splits=5)\n",
    "for c in cVals:\n",
    "    kf_f1_train = []\n",
    "    kf_f1_test = []\n",
    "    kf_f1_train_avg = []\n",
    "    kf_f1_test_avg = []\n",
    "    svc_linear = svm.SVC(probability = False, kernel = 'linear', C = c)\n",
    "    for train, test in kf.split(x_train_svm):            \n",
    "\n",
    "        Xtr = x_train_svm[train,:]\n",
    "        ytr = y_train_svm[train]\n",
    "        Xts = x_train_svm[test,:]\n",
    "        yts = y_train_svm[test]\n",
    "\n",
    "        svc_linear.fit(Xtr, ytr)\n",
    "\n",
    "        f1_train= f1_score(ytr,svc_linear.predict(Xtr),average='weighted') \n",
    "        f1_test= f1_score(yts,svc_linear.predict(Xts),average='weighted') \n",
    "\n",
    "        kf_f1_train.append(f1_train)\n",
    "        kf_f1_test.append(f1_test)\n",
    "\n",
    "    # Take average values for the kfold\n",
    "    kf_f1_train_avg = np.mean(kf_f1_train)\n",
    "    kf_f1_test_avg = np.mean(kf_f1_test)\n",
    "    \n",
    "    # For plotting\n",
    "    c_f1_train_avg.append(round(kf_f1_train_avg,3))\n",
    "    c_f1_test_avg.append(round(kf_f1_test_avg,3))\n",
    "    \n",
    "\n",
    "plt.plot(np.log10(cVals),c_f1_train_avg,\n",
    "        np.log10(cVals),c_f1_test_avg)\n",
    "plt.title('n_f1_max vs log10(cVals)')\n",
    "plt.xlabel('log10(cVals)')\n",
    "plt.ylabel('f1_max')\n",
    "\n",
    "i=0\n",
    "print(\"c\\t c_f1_train_avg\\t c_f1_test_avg\")\n",
    "for iter in cVals:\n",
    "    print(cVals[i],'\\t', c_f1_train_avg[i],'\\t\\t', c_f1_test_avg[i])\n",
    "    i=i+1\n",
    "plt.legend(['Training F1', 'Test F1'], loc='lower right')\n",
    "\n",
    "print(\"Best choice: c=1e4\")\n",
    "svc_linear_best = svm.SVC(probability = False, kernel = 'linear', C = 1e4)\n",
    "svc_linear_best.fit(x_train_svm, y_train_svm)\n",
    "f1_best= round(f1_score(y_test_svm,svc_linear_best.predict(x_test_svm),average='weighted'),3)\n",
    "print(\"F1=\",f1_best)"
   ]
  },
  {
   "cell_type": "markdown",
   "metadata": {},
   "source": [
    "# SVM using Radial Basis Function(RBF) Kernel."
   ]
  },
  {
   "cell_type": "code",
   "execution_count": 7,
   "metadata": {},
   "outputs": [
    {
     "name": "stdout",
     "output_type": "stream",
     "text": [
      "c\t c_f1_train_avg\t c_f1_test_avg\n",
      "0.1 \t 0.927 \t\t 0.889\n",
      "1 \t 0.991 \t\t 0.945\n",
      "10 \t 1.0 \t\t 0.96\n",
      "100 \t 1.0 \t\t 0.96\n",
      "Best choice: c= 10.0\n",
      "F1= 0.76\n"
     ]
    },
    {
     "data": {
      "image/png": "[encoded data removed]",
      "text/plain": [
       "<Figure size 432x288 with 1 Axes>"
      ]
     },
     "metadata": {
      "needs_background": "light"
     },
     "output_type": "display_data"
    }
   ],
   "source": [
    "# Note: higher c the better, so basically we want negligible penalty from weight function.\n",
    "cVals = [0.1,1,10,100]\n",
    "c_f1_train_avg = []\n",
    "c_f1_test_avg = []\n",
    "kf = KFold(n_splits=5)\n",
    "for c in cVals:\n",
    "    kf_f1_train = []\n",
    "    kf_f1_test = []\n",
    "    kf_f1_train_avg = []\n",
    "    kf_f1_test_avg = []\n",
    "    svc_rbf = svm.SVC(probability = False, kernel = 'rbf', C = c,gamma='auto')\n",
    "    for train, test in kf.split(x_train_svm):            \n",
    "\n",
    "        Xtr = x_train_svm[train,:]\n",
    "        ytr = y_train_svm[train]\n",
    "        Xts = x_train_svm[test,:]\n",
    "        yts = y_train_svm[test]\n",
    "\n",
    "        svc_rbf.fit(Xtr, ytr)\n",
    "\n",
    "        f1_train= f1_score(ytr,svc_rbf.predict(Xtr),average='weighted') \n",
    "        f1_test= f1_score(yts,svc_rbf.predict(Xts),average='weighted') \n",
    "\n",
    "        kf_f1_train.append(f1_train)\n",
    "        kf_f1_test.append(f1_test)\n",
    "\n",
    "    # Take average values for the kfold\n",
    "    kf_f1_train_avg = np.mean(kf_f1_train)\n",
    "    kf_f1_test_avg = np.mean(kf_f1_test)\n",
    "    \n",
    "    # For plotting\n",
    "    c_f1_train_avg.append(round(kf_f1_train_avg,3))\n",
    "    c_f1_test_avg.append(round(kf_f1_test_avg,3))\n",
    "    \n",
    "\n",
    "plt.plot(np.log10(cVals),c_f1_train_avg,\n",
    "        np.log10(cVals),c_f1_test_avg)\n",
    "plt.title('n_f1_max vs log10(cVals)')\n",
    "plt.xlabel('log10(cVals)')\n",
    "plt.ylabel('f1_max')\n",
    "\n",
    "i=0\n",
    "print(\"c\\t c_f1_train_avg\\t c_f1_test_avg\")\n",
    "for iter in cVals:\n",
    "    print(cVals[i],'\\t', c_f1_train_avg[i],'\\t\\t', c_f1_test_avg[i])\n",
    "    i=i+1\n",
    "plt.legend(['Training F1', 'Test F1'], loc='lower right')\n",
    "\n",
    "best_c=1e1\n",
    "print(\"Best choice: c=\",best_c)\n",
    "svc_rbf_best = svm.SVC(probability = False, kernel = 'rbf', C = best_c,gamma='auto')\n",
    "svc_rbf_best.fit(x_train_svm, y_train_svm)\n",
    "f1_best= round(f1_score(y_test_svm,svc_rbf_best.predict(x_test_svm),average='weighted'),3)\n",
    "print(\"F1=\",f1_best)"
   ]
  },
  {
   "cell_type": "markdown",
   "metadata": {},
   "source": [
    "# SVM using Polynomial Kernel.\n",
    "Note: SVM with polynomial kernel can be sometimes very slow. If that is the case, use smaller size of training set. Instead of all 600 training examples, use less (say 300)."
   ]
  },
  {
   "cell_type": "code",
   "execution_count": 8,
   "metadata": {},
   "outputs": [
    {
     "name": "stdout",
     "output_type": "stream",
     "text": [
      "c\t c_f1_train_avg\t c_f1_test_avg\n",
      "1 \t 0.913 \t\t 0.824\n",
      "10 \t 0.992 \t\t 0.918\n",
      "100 \t 1.0 \t\t 0.923\n",
      "Best choice: c= 10.0\n",
      "F1= 0.716\n"
     ]
    },
    {
     "data": {
      "image/png": "[encoded data removed]",
      "text/plain": [
       "<Figure size 432x288 with 1 Axes>"
      ]
     },
     "metadata": {
      "needs_background": "light"
     },
     "output_type": "display_data"
    }
   ],
   "source": [
    "# Note: higher c the better, so basically we want negligible penalty from weight function.\n",
    "cVals = [1,10,100]\n",
    "c_f1_train_avg = []\n",
    "c_f1_test_avg = []\n",
    "kf = KFold(n_splits=5)\n",
    "for c in cVals:\n",
    "    kf_f1_train = []\n",
    "    kf_f1_test = []\n",
    "    kf_f1_train_avg = []\n",
    "    kf_f1_test_avg = []\n",
    "    svc_poly = svm.SVC(probability = False, kernel = 'poly', C = c, gamma='auto')\n",
    "    for train, test in kf.split(x_train_svm):            \n",
    "\n",
    "        Xtr = x_train_svm[train,:]\n",
    "        ytr = y_train_svm[train]\n",
    "        Xts = x_train_svm[test,:]\n",
    "        yts = y_train_svm[test]\n",
    "\n",
    "        svc_poly.fit(Xtr, ytr)\n",
    "\n",
    "        f1_train= f1_score(ytr,svc_poly.predict(Xtr),average='weighted') \n",
    "        f1_test= f1_score(yts,svc_poly.predict(Xts),average='weighted') \n",
    "\n",
    "        kf_f1_train.append(f1_train)\n",
    "        kf_f1_test.append(f1_test)\n",
    "\n",
    "    # Take average values for the kfold\n",
    "    kf_f1_train_avg = np.mean(kf_f1_train)\n",
    "    kf_f1_test_avg = np.mean(kf_f1_test)\n",
    "    \n",
    "    # For plotting\n",
    "    c_f1_train_avg.append(round(kf_f1_train_avg,3))\n",
    "    c_f1_test_avg.append(round(kf_f1_test_avg,3))\n",
    "    \n",
    "\n",
    "plt.plot(np.log10(cVals),c_f1_train_avg,\n",
    "        np.log10(cVals),c_f1_test_avg)\n",
    "plt.title('n_f1_max vs log10(cVals)')\n",
    "plt.xlabel('log10(cVals)')\n",
    "plt.ylabel('f1_max')\n",
    "\n",
    "i=0\n",
    "print(\"c\\t c_f1_train_avg\\t c_f1_test_avg\")\n",
    "for iter in cVals:\n",
    "    print(cVals[i],'\\t', c_f1_train_avg[i],'\\t\\t', c_f1_test_avg[i])\n",
    "    i=i+1\n",
    "plt.legend(['Training F1', 'Test F1'], loc='lower right')\n",
    "\n",
    "best_c=1e1\n",
    "print(\"Best choice: c=\",best_c)\n",
    "svc_poly_best = svm.SVC(probability = False, kernel = 'poly', C = best_c, gamma='auto')\n",
    "svc_poly_best.fit(x_train_svm, y_train_svm)\n",
    "f1_best= round(f1_score(y_test_svm,svc_poly_best.predict(x_test_svm),average='weighted'),3)\n",
    "print(\"F1=\",f1_best)"
   ]
  },
  {
   "cell_type": "markdown",
   "metadata": {},
   "source": [
    "## Redoing split"
   ]
  },
  {
   "cell_type": "code",
   "execution_count": 9,
   "metadata": {},
   "outputs": [
    {
     "data": {
      "text/plain": [
       "(157, 27)"
      ]
     },
     "execution_count": 9,
     "metadata": {},
     "output_type": "execute_result"
    }
   ],
   "source": [
    "#the data as manually concatenated in excel of training and test as provided by the database\n",
    "from sklearn.model_selection import train_test_split #for splitting the data into train and test\n",
    "from sklearn.preprocessing import StandardScaler #for zero-mean and unit variance\n",
    "sc = StandardScaler()\n",
    "df= pd.read_csv('data.csv',delim_whitespace=False)\n",
    "# print(df.shape)\n",
    "class_mapping={label:idx for idx,label in enumerate(np.unique(df['class']))}\n",
    "df['class']=df['class'].map(class_mapping)\n",
    "X, y = df.iloc[:, 1:].values, df.iloc[:, 0].values # the first column is class header\n",
    "x_train70, x_test30, y_train70, y_test30 = train_test_split(X, y, test_size=0.3) # we will be using 70:30 for train vs. test as we want to maximize the training data size and the ratio has also shown better performance in nerual algorithm processing\n",
    "x_train70 = sc.fit_transform(x_train70)\n",
    "x_test30 = sc.fit_transform(x_test30)\n",
    "from sklearn import svm\n",
    "from sklearn.metrics import confusion_matrix\n",
    "#     print(confusion_matrix(y_test_svm, svc_rbf.predict(x_test_svm)))\n",
    "from sklearn.metrics import f1_score\n",
    "x_train70_svm=x_train70\n",
    "y_train70_svm=y_train70\n",
    "x_test30_svm=x_test30\n",
    "y_test30_svm=y_test30\n",
    "x_test30_svm.shape"
   ]
  },
  {
   "cell_type": "markdown",
   "metadata": {},
   "source": [
    "## Linear SVM"
   ]
  },
  {
   "cell_type": "code",
   "execution_count": 11,
   "metadata": {},
   "outputs": [
    {
     "name": "stdout",
     "output_type": "stream",
     "text": [
      "c\t c_f1_train_avg\t c_f1_test_avg\n",
      "0.01 \t 0.893 \t\t 0.868\n",
      "0.1 \t 0.924 \t\t 0.89\n",
      "1 \t 0.943 \t\t 0.904\n",
      "10 \t 0.954 \t\t 0.879\n",
      "100 \t 0.966 \t\t 0.855\n",
      "Best choice: c= 1.0\n",
      "F1= 0.884\n"
     ]
    },
    {
     "data": {
      "image/png": "[encoded data removed]",
      "text/plain": [
       "<Figure size 432x288 with 1 Axes>"
      ]
     },
     "metadata": {
      "needs_background": "light"
     },
     "output_type": "display_data"
    }
   ],
   "source": [
    "# Note: higher c the better, so basically we want negligible penalty from weight function.\n",
    "cVals = [0.01,0.1,1,10,100]\n",
    "c_f1_train_avg = []\n",
    "c_f1_test_avg = []\n",
    "kf = KFold(n_splits=5)\n",
    "for c in cVals:\n",
    "    kf_f1_train = []\n",
    "    kf_f1_test = []\n",
    "    kf_f1_train_avg = []\n",
    "    kf_f1_test_avg = []\n",
    "    svc_linear = svm.SVC(probability = False, kernel = 'linear', C = c)\n",
    "    for train, test in kf.split(x_train70_svm):            \n",
    "\n",
    "        Xtr = x_train70_svm[train,:]\n",
    "        ytr = y_train70_svm[train]\n",
    "        Xts = x_train70_svm[test,:]\n",
    "        yts = y_train70_svm[test]\n",
    "\n",
    "        svc_linear.fit(Xtr, ytr)\n",
    "\n",
    "        f1_train= f1_score(ytr,svc_linear.predict(Xtr),average='weighted') \n",
    "        f1_test= f1_score(yts,svc_linear.predict(Xts),average='weighted') \n",
    "\n",
    "        kf_f1_train.append(f1_train)\n",
    "        kf_f1_test.append(f1_test)\n",
    "\n",
    "    # Take average values for the kfold\n",
    "    kf_f1_train_avg = np.mean(kf_f1_train)\n",
    "    kf_f1_test_avg = np.mean(kf_f1_test)\n",
    "    \n",
    "    # For plotting\n",
    "    c_f1_train_avg.append(round(kf_f1_train_avg,3))\n",
    "    c_f1_test_avg.append(round(kf_f1_test_avg,3))\n",
    "    \n",
    "\n",
    "plt.plot(np.log10(cVals),c_f1_train_avg,\n",
    "        np.log10(cVals),c_f1_test_avg)\n",
    "plt.title('n_f1_max vs log10(cVals)')\n",
    "plt.xlabel('log10(cVals)')\n",
    "plt.ylabel('f1_max')\n",
    "\n",
    "i=0\n",
    "print(\"c\\t c_f1_train_avg\\t c_f1_test_avg\")\n",
    "for iter in cVals:\n",
    "    print(cVals[i],'\\t', c_f1_train_avg[i],'\\t\\t', c_f1_test_avg[i])\n",
    "    i=i+1\n",
    "plt.legend(['Training F1', 'Test F1'], loc='lower right')\n",
    "\n",
    "best_c=1e0\n",
    "print(\"Best choice: c=\",best_c)\n",
    "svc_linear_best = svm.SVC(probability = False, kernel = 'linear', C = best_c)\n",
    "svc_linear_best.fit(x_train70_svm, y_train70_svm)\n",
    "f1_best= round(f1_score(y_test30_svm,svc_linear_best.predict(x_test30_svm),average='weighted'),3)\n",
    "print(\"F1=\",f1_best)"
   ]
  },
  {
   "cell_type": "markdown",
   "metadata": {},
   "source": [
    "## SVM rbf"
   ]
  },
  {
   "cell_type": "code",
   "execution_count": 12,
   "metadata": {},
   "outputs": [
    {
     "name": "stderr",
     "output_type": "stream",
     "text": [
      "/anaconda3/lib/python3.7/site-packages/sklearn/metrics/classification.py:1143: UndefinedMetricWarning: F-score is ill-defined and being set to 0.0 in labels with no predicted samples.\n",
      "  'precision', 'predicted', average, warn_for)\n",
      "/anaconda3/lib/python3.7/site-packages/sklearn/metrics/classification.py:1143: UndefinedMetricWarning: F-score is ill-defined and being set to 0.0 in labels with no predicted samples.\n",
      "  'precision', 'predicted', average, warn_for)\n",
      "/anaconda3/lib/python3.7/site-packages/sklearn/metrics/classification.py:1143: UndefinedMetricWarning: F-score is ill-defined and being set to 0.0 in labels with no predicted samples.\n",
      "  'precision', 'predicted', average, warn_for)\n",
      "/anaconda3/lib/python3.7/site-packages/sklearn/metrics/classification.py:1143: UndefinedMetricWarning: F-score is ill-defined and being set to 0.0 in labels with no predicted samples.\n",
      "  'precision', 'predicted', average, warn_for)\n",
      "/anaconda3/lib/python3.7/site-packages/sklearn/metrics/classification.py:1143: UndefinedMetricWarning: F-score is ill-defined and being set to 0.0 in labels with no predicted samples.\n",
      "  'precision', 'predicted', average, warn_for)\n",
      "/anaconda3/lib/python3.7/site-packages/sklearn/metrics/classification.py:1143: UndefinedMetricWarning: F-score is ill-defined and being set to 0.0 in labels with no predicted samples.\n",
      "  'precision', 'predicted', average, warn_for)\n",
      "/anaconda3/lib/python3.7/site-packages/sklearn/metrics/classification.py:1143: UndefinedMetricWarning: F-score is ill-defined and being set to 0.0 in labels with no predicted samples.\n",
      "  'precision', 'predicted', average, warn_for)\n",
      "/anaconda3/lib/python3.7/site-packages/sklearn/metrics/classification.py:1143: UndefinedMetricWarning: F-score is ill-defined and being set to 0.0 in labels with no predicted samples.\n",
      "  'precision', 'predicted', average, warn_for)\n",
      "/anaconda3/lib/python3.7/site-packages/sklearn/metrics/classification.py:1143: UndefinedMetricWarning: F-score is ill-defined and being set to 0.0 in labels with no predicted samples.\n",
      "  'precision', 'predicted', average, warn_for)\n",
      "/anaconda3/lib/python3.7/site-packages/sklearn/metrics/classification.py:1143: UndefinedMetricWarning: F-score is ill-defined and being set to 0.0 in labels with no predicted samples.\n",
      "  'precision', 'predicted', average, warn_for)\n"
     ]
    },
    {
     "name": "stdout",
     "output_type": "stream",
     "text": [
      "c\t c_f1_train_avg\t c_f1_test_avg\n",
      "0.1 \t 0.583 \t\t 0.539\n",
      "1 \t 0.935 \t\t 0.873\n",
      "10 \t 0.981 \t\t 0.867\n",
      "100 \t 1.0 \t\t 0.833\n",
      "1000.0 \t 1.0 \t\t 0.833\n",
      "10000.0 \t 1.0 \t\t 0.833\n",
      "100000.0 \t 1.0 \t\t 0.833\n",
      "Best choice: c= 1.0\n",
      "F1= 0.858\n"
     ]
    },
    {
     "data": {
      "image/png": "[encoded data removed]",
      "text/plain": [
       "<Figure size 432x288 with 1 Axes>"
      ]
     },
     "metadata": {
      "needs_background": "light"
     },
     "output_type": "display_data"
    }
   ],
   "source": [
    "# Note: higher c the better, so basically we want negligible penalty from weight function.\n",
    "cVals = [0.1,1,10,100,1e3,1e4,1e5]\n",
    "c_f1_train_avg = []\n",
    "c_f1_test_avg = []\n",
    "kf = KFold(n_splits=5)\n",
    "for c in cVals:\n",
    "    kf_f1_train = []\n",
    "    kf_f1_test = []\n",
    "    kf_f1_train_avg = []\n",
    "    kf_f1_test_avg = []\n",
    "    svc_rbf = svm.SVC(probability = False, kernel = 'rbf', C = c,gamma='auto')\n",
    "    for train, test in kf.split(x_train_svm):            \n",
    "\n",
    "        Xtr = x_train70_svm[train,:]\n",
    "        ytr = y_train70_svm[train]\n",
    "        Xts = x_train70_svm[test,:]\n",
    "        yts = y_train70_svm[test]\n",
    "\n",
    "        svc_rbf.fit(Xtr, ytr)\n",
    "\n",
    "        f1_train= f1_score(ytr,svc_rbf.predict(Xtr),average='weighted') \n",
    "        f1_test= f1_score(yts,svc_rbf.predict(Xts),average='weighted') \n",
    "\n",
    "        kf_f1_train.append(f1_train)\n",
    "        kf_f1_test.append(f1_test)\n",
    "\n",
    "    # Take average values for the kfold\n",
    "    kf_f1_train_avg = np.mean(kf_f1_train)\n",
    "    kf_f1_test_avg = np.mean(kf_f1_test)\n",
    "    \n",
    "    # For plotting\n",
    "    c_f1_train_avg.append(round(kf_f1_train_avg,3))\n",
    "    c_f1_test_avg.append(round(kf_f1_test_avg,3))\n",
    "    \n",
    "\n",
    "plt.plot(np.log10(cVals),c_f1_train_avg,\n",
    "        np.log10(cVals),c_f1_test_avg)\n",
    "plt.title('n_f1_max vs log10(cVals)')\n",
    "plt.xlabel('log10(cVals)')\n",
    "plt.ylabel('f1_max')\n",
    "\n",
    "i=0\n",
    "print(\"c\\t c_f1_train_avg\\t c_f1_test_avg\")\n",
    "for iter in cVals:\n",
    "    print(cVals[i],'\\t', c_f1_train_avg[i],'\\t\\t', c_f1_test_avg[i])\n",
    "    i=i+1\n",
    "plt.legend(['Training F1', 'Test F1'], loc='lower right')\n",
    "\n",
    "best_c=1e0\n",
    "print(\"Best choice: c=\",best_c)\n",
    "svc_rbf_best = svm.SVC(probability = False, kernel = 'rbf', C = best_c,gamma='auto')\n",
    "svc_rbf_best.fit(x_train70_svm, y_train70_svm)\n",
    "f1_best= round(f1_score(y_test30_svm,svc_rbf_best.predict(x_test30_svm),average='weighted'),3)\n",
    "print(\"F1=\",f1_best)"
   ]
  },
  {
   "cell_type": "markdown",
   "metadata": {},
   "source": [
    "## SVM poly"
   ]
  },
  {
   "cell_type": "code",
   "execution_count": 13,
   "metadata": {},
   "outputs": [
    {
     "name": "stdout",
     "output_type": "stream",
     "text": [
      "c\t c_f1_train_avg\t c_f1_test_avg\n",
      "1 \t 0.779 \t\t 0.71\n",
      "10 \t 0.956 \t\t 0.826\n",
      "100 \t 0.986 \t\t 0.856\n",
      "Best choice: c= 10.0\n",
      "F1= 0.863\n"
     ]
    },
    {
     "data": {
      "image/png": "[encoded data removed]",
      "text/plain": [
       "<Figure size 432x288 with 1 Axes>"
      ]
     },
     "metadata": {
      "needs_background": "light"
     },
     "output_type": "display_data"
    }
   ],
   "source": [
    "# Note: higher c the better, so basically we want negligible penalty from weight function.\n",
    "cVals = [1,10,100]\n",
    "c_f1_train_avg = []\n",
    "c_f1_test_avg = []\n",
    "kf = KFold(n_splits=5)\n",
    "for c in cVals:\n",
    "    kf_f1_train = []\n",
    "    kf_f1_test = []\n",
    "    kf_f1_train_avg = []\n",
    "    kf_f1_test_avg = []\n",
    "    svc_poly = svm.SVC(probability = False, kernel = 'poly', C = c, gamma='auto')\n",
    "    for train, test in kf.split(x_train_svm):            \n",
    "\n",
    "        Xtr = x_train70_svm[train,:]\n",
    "        ytr = y_train70_svm[train]\n",
    "        Xts = x_train70_svm[test,:]\n",
    "        yts = y_train70_svm[test]\n",
    "\n",
    "        svc_poly.fit(Xtr, ytr)\n",
    "\n",
    "        f1_train= f1_score(ytr,svc_poly.predict(Xtr),average='weighted') \n",
    "        f1_test= f1_score(yts,svc_poly.predict(Xts),average='weighted') \n",
    "\n",
    "        kf_f1_train.append(f1_train)\n",
    "        kf_f1_test.append(f1_test)\n",
    "\n",
    "    # Take average values for the kfold\n",
    "    kf_f1_train_avg = np.mean(kf_f1_train)\n",
    "    kf_f1_test_avg = np.mean(kf_f1_test)\n",
    "    \n",
    "    # For plotting\n",
    "    c_f1_train_avg.append(round(kf_f1_train_avg,3))\n",
    "    c_f1_test_avg.append(round(kf_f1_test_avg,3))\n",
    "    \n",
    "\n",
    "plt.plot(np.log10(cVals),c_f1_train_avg,\n",
    "        np.log10(cVals),c_f1_test_avg)\n",
    "plt.title('n_f1_max vs log10(cVals)')\n",
    "plt.xlabel('log10(cVals)')\n",
    "plt.ylabel('f1_max')\n",
    "\n",
    "i=0\n",
    "print(\"c\\t c_f1_train_avg\\t c_f1_test_avg\")\n",
    "for iter in cVals:\n",
    "    print(cVals[i],'\\t', c_f1_train_avg[i],'\\t\\t', c_f1_test_avg[i])\n",
    "    i=i+1\n",
    "plt.legend(['Training F1', 'Test F1'], loc='lower right')\n",
    "\n",
    "best_c=1e1\n",
    "print(\"Best choice: c=\",best_c)\n",
    "svc_poly_best = svm.SVC(probability = False, kernel = 'poly', C = best_c, gamma='auto')\n",
    "svc_poly_best.fit(x_train70_svm, y_train70_svm)\n",
    "f1_best= round(f1_score(y_test30_svm,svc_poly_best.predict(x_test30_svm),average='weighted'),3)\n",
    "print(\"F1=\",f1_best)"
   ]
  },
  {
   "cell_type": "code",
   "execution_count": null,
   "metadata": {},
   "outputs": [],
   "source": []
  }
 ],
 "metadata": {
  "kernelspec": {
   "display_name": "Python 3",
   "language": "python",
   "name": "python3"
  },
  "language_info": {
   "codemirror_mode": {
    "name": "ipython",
    "version": 3
   },
   "file_extension": ".py",
   "mimetype": "text/x-python",
   "name": "python",
   "nbconvert_exporter": "python",
   "pygments_lexer": "ipython3",
   "version": "3.7.1"
  }
 },
 "nbformat": 4,
 "nbformat_minor": 2
}
